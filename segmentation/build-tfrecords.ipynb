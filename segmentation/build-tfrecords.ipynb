{
 "cells": [
  {
   "cell_type": "markdown",
   "metadata": {},
   "source": [
    "### (1) read training file: extract (image, label) tuples"
   ]
  },
  {
   "cell_type": "code",
   "execution_count": null,
   "metadata": {},
   "outputs": [],
   "source": [
    "with open('../../data/isbi2016_isic_part1_train.list', 'r') as training_file:\n",
    "    images_labels_train = training_file.readlines()\n",
    "    \n",
    "images_train=[]\n",
    "labels_train=[]\n",
    "for image_label in images_labels_train:\n",
    "    i_l = image_label.split()\n",
    "    if \"_01\" not in i_l[0]:\n",
    "        images_train.append(i_l[0])\n",
    "        labels_train.append(i_l[1])\n",
    "    \n",
    "print(dict(zip(images_train,labels_train)))"
   ]
  },
  {
   "cell_type": "markdown",
   "metadata": {},
   "source": [
    "### (2) read validation file: extract (image, label) tuples"
   ]
  },
  {
   "cell_type": "code",
   "execution_count": null,
   "metadata": {},
   "outputs": [],
   "source": [
    "with open('../../data/isbi2016_isic_part1_val.list', 'r') as validation_file:\n",
    "    images_labels_val = validation_file.readlines()\n",
    "\n",
    "images_val=[]\n",
    "labels_val=[]\n",
    "for image_label in images_labels_val:\n",
    "    i_l = image_label.split()\n",
    "    if \"_01\" not in i_l[0]:\n",
    "        images_val.append(i_l[0])\n",
    "        labels_val.append(i_l[1])\n",
    "    \n",
    "print(dict(zip(images_val,labels_val)))"
   ]
  },
  {
   "cell_type": "markdown",
   "metadata": {},
   "source": [
    "### (3) compute per-channel mean and build tfrecords from training images"
   ]
  },
  {
   "cell_type": "code",
   "execution_count": 1,
   "metadata": {},
   "outputs": [
    {
     "ename": "SyntaxError",
     "evalue": "invalid syntax (<ipython-input-1-89d1c13365ea>, line 6)",
     "output_type": "error",
     "traceback": [
      "\u001b[1;36m  File \u001b[1;32m\"<ipython-input-1-89d1c13365ea>\"\u001b[1;36m, line \u001b[1;32m6\u001b[0m\n\u001b[1;33m    import PIL import ImageStat\u001b[0m\n\u001b[1;37m                    ^\u001b[0m\n\u001b[1;31mSyntaxError\u001b[0m\u001b[1;31m:\u001b[0m invalid syntax\n"
     ]
    }
   ],
   "source": [
    "import numpy as np\n",
    "from PIL import Image\n",
    "import tensorflow as tf\n",
    "import os\n",
    "import io\n",
    "import PIL import ImageStat\n",
    "\n",
    "append_dir = '../../data/ISBI2016_ISIC_Part1_Training_Data_processed/'\n",
    "\n",
    "mean_rgb = np.array([0., 0., 0.])\n",
    "count=0\n",
    "\n",
    "def _bytes_feature(value): \n",
    "    return tf.train.Feature(bytes_list=tf.train.BytesList(value=[value]))\n",
    "\n",
    "writer = tf.python_io.TFRecordWriter('melanoma_train.tfrecords')\n",
    "\n",
    "for fimg, flabel in zip(images_train,labels_train):\n",
    "    print(fimg, flabel)\n",
    "    bytes_io_img = io.BytesIO()\n",
    "    img = Image.open(os.path.join(append_dir,fimg))\n",
    "    stat = ImageStat.Stat(img)\n",
    "    mean_rgb = mean_rgb + np.array(stat.mean)\n",
    "    count += 1\n",
    "    img.save(bytes_io_img, 'PNG')\n",
    "    bytes_io_lbl = io.BytesIO()\n",
    "    label = Image.open(os.path.join(append_dir,flabel))\n",
    "    label.save(bytes_io_lbl, 'PNG')\n",
    "    example = tf.train.Example(\n",
    "        features=tf.train.Features(\n",
    "            feature={'image': _bytes_feature(bytes_io_img.getvalue()),\n",
    "                     'image_name': _bytes_feature(str.encode(fimg)),\n",
    "                     'label_name': _bytes_feature(str.encode(flabel)),\n",
    "                     'label': _bytes_feature(bytes_io_lbl.getvalue())\n",
    "                    }\n",
    "        )\n",
    "    )\n",
    "    writer.write(example.SerializeToString())\n",
    "writer.close()\n",
    "\n",
    "np.save('mean_rgb_train.npy', mean_rgb/count)"
   ]
  },
  {
   "cell_type": "code",
   "execution_count": null,
   "metadata": {},
   "outputs": [],
   "source": [
    "writer = tf.python_io.TFRecordWriter('melanoma_val.tfrecords')\n",
    "\n",
    "for fimg, flabel in zip(images_val,labels_val):\n",
    "    print(fimg, flabel)\n",
    "    bytes_io_img = io.BytesIO()\n",
    "    img = Image.open(os.path.join(append_dir,fimg))\n",
    "    img.save(bytes_io_img, 'PNG')\n",
    "    bytes_io_lbl = io.BytesIO()\n",
    "    label = Image.open(os.path.join(append_dir,flabel))\n",
    "    label.save(bytes_io_lbl, 'PNG')\n",
    "    example = tf.train.Example(\n",
    "        features=tf.train.Features(\n",
    "            feature={'image': _bytes_feature(bytes_io_img.getvalue()),\n",
    "                     'image_name': _bytes_feature(str.encode(fimg)),\n",
    "                     'label_name': _bytes_feature(str.encode(flabel)),\n",
    "                     'label': _bytes_feature(bytes_io_lbl.getvalue())\n",
    "                    }\n",
    "        )\n",
    "    )\n",
    "    writer.write(example.SerializeToString())\n",
    "writer.close()"
   ]
  }
 ],
 "metadata": {
  "kernelspec": {
   "display_name": "Python 3",
   "language": "python",
   "name": "python3"
  },
  "language_info": {
   "codemirror_mode": {
    "name": "ipython",
    "version": 3
   },
   "file_extension": ".py",
   "mimetype": "text/x-python",
   "name": "python",
   "nbconvert_exporter": "python",
   "pygments_lexer": "ipython3",
   "version": "3.6.2"
  }
 },
 "nbformat": 4,
 "nbformat_minor": 2
}
